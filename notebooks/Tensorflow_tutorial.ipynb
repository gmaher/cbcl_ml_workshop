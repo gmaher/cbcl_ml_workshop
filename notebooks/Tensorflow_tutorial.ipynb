{
 "cells": [
  {
   "cell_type": "code",
   "execution_count": 1,
   "metadata": {},
   "outputs": [],
   "source": [
    "import tensorflow as tf"
   ]
  },
  {
   "cell_type": "markdown",
   "metadata": {},
   "source": [
    "### Tensorflow Graphs\n",
    "\n",
    "Tensorflow is different from normal programming. With Tensorflow we first\n",
    "build a computational graph. Then later we can supply values for the nodes\n",
    "of the graph and run it."
   ]
  },
  {
   "cell_type": "code",
   "execution_count": 2,
   "metadata": {},
   "outputs": [
    {
     "name": "stdout",
     "output_type": "stream",
     "text": [
      "Tensor(\"Const:0\", shape=(), dtype=float32)\n",
      "Tensor(\"Const_1:0\", shape=(), dtype=float32)\n",
      "Tensor(\"mul:0\", shape=(), dtype=float32)\n"
     ]
    }
   ],
   "source": [
    "a = tf.constant(1.0)\n",
    "b = tf.constant(2.0)\n",
    "\n",
    "c = a*b\n",
    "print(a)\n",
    "print(b)\n",
    "print(c)"
   ]
  },
  {
   "cell_type": "markdown",
   "metadata": {},
   "source": [
    "### Session\n",
    "To run a tensorflow graph we need to create a session. The session allows\n",
    "us to tell the graph which nodes to compute and returns their values."
   ]
  },
  {
   "cell_type": "code",
   "execution_count": 3,
   "metadata": {},
   "outputs": [
    {
     "name": "stdout",
     "output_type": "stream",
     "text": [
      "2.0\n"
     ]
    }
   ],
   "source": [
    "sess = tf.Session()\n",
    "c_value = sess.run(c)\n",
    "print(c_value)"
   ]
  },
  {
   "cell_type": "markdown",
   "metadata": {},
   "source": [
    "### Placeholders\n",
    "To supply inputs to our graph we need to use placeholder tensors.\n",
    "\n",
    "These are tensors that have an unspecified value that we supply as input\n",
    "when running the graph."
   ]
  },
  {
   "cell_type": "code",
   "execution_count": 4,
   "metadata": {},
   "outputs": [
    {
     "name": "stdout",
     "output_type": "stream",
     "text": [
      "Tensor(\"Placeholder:0\", shape=(3,), dtype=float32)\n",
      "<tf.Variable 'Variable:0' shape=(3,) dtype=float32_ref>\n",
      "Tensor(\"add:0\", shape=(3,), dtype=float32)\n"
     ]
    }
   ],
   "source": [
    "a = tf.placeholder(shape=[3], dtype=tf.float32)\n",
    "b = tf.Variable(tf.ones([3]))\n",
    "\n",
    "c = a+b\n",
    "print(a)\n",
    "print(b)\n",
    "print(c)"
   ]
  },
  {
   "cell_type": "markdown",
   "metadata": {},
   "source": [
    "### Setting placeholder values with a feed dict\n",
    "\n",
    "When running the graph, the run function lets us specify the value of the\n",
    "placeholder tensors with a dictionary. It then uses these values when \n",
    "computing graph nodes."
   ]
  },
  {
   "cell_type": "code",
   "execution_count": 5,
   "metadata": {},
   "outputs": [
    {
     "name": "stdout",
     "output_type": "stream",
     "text": [
      "[1. 1. 1.]\n",
      "[2. 3. 4.]\n"
     ]
    }
   ],
   "source": [
    "sess = tf.Session()\n",
    "sess.run(tf.global_variables_initializer())\n",
    "b_value = sess.run(b)\n",
    "c_value = sess.run(c,feed_dict={a:[1.0,2.0,3.0]})\n",
    "print(b_value)\n",
    "print(c_value)"
   ]
  },
  {
   "cell_type": "markdown",
   "metadata": {},
   "source": [
    "### Variable Scope\n",
    "Tensorflow graphs create a unique string identifier for each node.\n",
    "This is known as variable scope.\n",
    "We can group variables together using the scope."
   ]
  },
  {
   "cell_type": "code",
   "execution_count": 6,
   "metadata": {},
   "outputs": [
    {
     "name": "stdout",
     "output_type": "stream",
     "text": [
      "<tf.Variable 'my_scope/b:0' shape=(3,) dtype=float32_ref>\n"
     ]
    }
   ],
   "source": [
    "with tf.variable_scope('my_scope'):\n",
    "    b = tf.Variable(tf.ones([3]), name='b')\n",
    "    \n",
    "print(b)"
   ]
  },
  {
   "cell_type": "markdown",
   "metadata": {},
   "source": [
    "we can retrieve the variable elsewhere in our code by referring to its scope."
   ]
  },
  {
   "cell_type": "code",
   "execution_count": 7,
   "metadata": {},
   "outputs": [
    {
     "name": "stdout",
     "output_type": "stream",
     "text": [
      "<tf.Variable 'my_scope/c:0' shape=(3,) dtype=float32_ref>\n"
     ]
    }
   ],
   "source": [
    "c = tf.get_variable('my_scope/c',shape=[3],\n",
    "                    initializer=tf.ones_initializer())\n",
    "    \n",
    "print(c)"
   ]
  },
  {
   "cell_type": "code",
   "execution_count": 8,
   "metadata": {},
   "outputs": [
    {
     "name": "stdout",
     "output_type": "stream",
     "text": [
      "<tf.Variable 'my_scope/c:0' shape=(3,) dtype=float32_ref>\n"
     ]
    }
   ],
   "source": [
    "with tf.variable_scope('my_scope',reuse=True):\n",
    "    d = tf.get_variable('c')\n",
    "    \n",
    "print(d)"
   ]
  },
  {
   "cell_type": "markdown",
   "metadata": {},
   "source": [
    "### Optimizing graphs\n",
    "We can optimize the values of variables in our graph using builtin optimizers\n",
    "\n",
    "We do this by defining a **loss tensor**.\n",
    "\n",
    "Tensorflow then can compute the gradients of the loss with\n",
    "respect to all the nodes in the graph and optimize their values."
   ]
  },
  {
   "cell_type": "code",
   "execution_count": 9,
   "metadata": {},
   "outputs": [],
   "source": [
    "x = tf.placeholder(shape=[3],dtype=tf.float32)\n",
    "y = tf.placeholder(shape=[3],dtype=tf.float32)\n",
    "weights = tf.get_variable('w',shape=[3],initializer=tf.ones_initializer)\n",
    "\n",
    "#This is the loss tensor\n",
    "MSE = tf.reduce_mean(tf.square(weights*x-y))"
   ]
  },
  {
   "cell_type": "markdown",
   "metadata": {},
   "source": [
    "### Optimizers\n",
    "Tensorflow provides optimizers.\n",
    "\n",
    "These optimizers create an optimization tensor that, when run,\n",
    "computes a step of the optimization algorithm."
   ]
  },
  {
   "cell_type": "code",
   "execution_count": 10,
   "metadata": {},
   "outputs": [],
   "source": [
    "learning_rate = 0.1\n",
    "momentum = 0.9\n",
    "opt = tf.train.MomentumOptimizer(learning_rate,momentum)\n",
    "train = opt.minimize(MSE)"
   ]
  },
  {
   "cell_type": "code",
   "execution_count": 11,
   "metadata": {},
   "outputs": [
    {
     "name": "stdout",
     "output_type": "stream",
     "text": [
      "[ 1.9966023 -2.9864092  2.00517  ]\n"
     ]
    }
   ],
   "source": [
    "x_feed = [1,-1,2]\n",
    "y_feed = [2,3,4]\n",
    "sess.run(tf.global_variables_initializer())\n",
    "for i in range(100):\n",
    "    sess.run(train,{x:x_feed,y:y_feed})\n",
    "    \n",
    "print(sess.run(weights))"
   ]
  },
  {
   "cell_type": "code",
   "execution_count": 12,
   "metadata": {},
   "outputs": [],
   "source": [
    "input_size = 100\n",
    "output_size = 10\n",
    "init = tf.random_normal_initializer(mean=0.0,stddev=1e-2)\n",
    "\n",
    "x = tf.placeholder(shape=[1,input_size],dtype=tf.float32)\n",
    "y = tf.placeholder(shape=[1,output_size],dtype=tf.float32)\n",
    "\n",
    "with tf.variable_scope('layer_1'):\n",
    "    W = tf.get_variable('W',[input_size,output_size],\n",
    "                        initializer=init)\n",
    "    b = tf.get_variable('b',[output_size],\n",
    "                        initializer=init)\n",
    "    \n",
    "    h = tf.matmul(x,W)+b\n",
    "    a = tf.nn.sigmoid(h)\n",
    "    \n",
    "MSE = tf.reduce_mean(tf.square(a-y))"
   ]
  },
  {
   "cell_type": "code",
   "execution_count": null,
   "metadata": {
    "collapsed": true
   },
   "outputs": [],
   "source": []
  },
  {
   "cell_type": "code",
   "execution_count": null,
   "metadata": {
    "collapsed": true
   },
   "outputs": [],
   "source": []
  }
 ],
 "metadata": {
  "kernelspec": {
   "display_name": "Python 3",
   "language": "python",
   "name": "python3"
  },
  "language_info": {
   "codemirror_mode": {
    "name": "ipython",
    "version": 3
   },
   "file_extension": ".py",
   "mimetype": "text/x-python",
   "name": "python",
   "nbconvert_exporter": "python",
   "pygments_lexer": "ipython3",
   "version": "3.7.1"
  }
 },
 "nbformat": 4,
 "nbformat_minor": 2
}
