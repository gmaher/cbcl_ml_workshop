{
 "cells": [
  {
   "cell_type": "code",
   "execution_count": 1,
   "metadata": {
    "collapsed": true
   },
   "outputs": [],
   "source": [
    "#Import libraries\n",
    "import tensorflow as tf\n",
    "import numpy as np\n",
    "import matplotlib\n",
    "\n",
    "import os\n",
    "%matplotlib inline\n",
    "matplotlib.rcParams.update({'font.size': 24})\n",
    "import matplotlib.pyplot as plt\n",
    "plt.style.use('ggplot')"
   ]
  },
  {
   "cell_type": "code",
   "execution_count": 2,
   "metadata": {},
   "outputs": [
    {
     "name": "stdout",
     "output_type": "stream",
     "text": [
      "[\"a midsummer-night's drea\", 'now , fair hippolyta , our nuptial hour', 'draws on apace : four happy days bring in', 'another moon ; but o ! methinks how slow', 'this old moon wanes ; she lingers my desires ', 'like to a step dame , or a dowager', \"long withering out a young man's revenue \", 'four days will quickly steep themselves in night ', 'four nights will quickly dream away the time ', 'and then the moon , like to a silver bow']\n"
     ]
    }
   ],
   "source": [
    "#get data from the shakespeare text file\n",
    "f = open('shakespeare.txt').readlines()\n",
    "f = [s for s in f if s != '\\n']\n",
    "f = [s.lower() for s in f]\n",
    "f = [s.replace('\\n','') for s in f]\n",
    "f = [s[:-1] for s in f]\n",
    "\n",
    "print f[:10]"
   ]
  },
  {
   "cell_type": "code",
   "execution_count": 4,
   "metadata": {},
   "outputs": [
    {
     "name": "stdout",
     "output_type": "stream",
     "text": [
      "93166\n",
      "53302\n",
      "['draws on apace : four happy days bring in', 'this old moon wanes ; she lingers my desires ', \"long withering out a young man's revenue \", 'four days will quickly steep themselves in night ', 'four nights will quickly dream away the time ', 'new-bent in heaven , shall behold the night', 'stir up the athenian youth to merriments ', 'awake the pert and nimble spirit of mirth ', 'with pomp , with triumph , and with revelling ', \"thanks , good egeus : what's the news with thee \"]\n"
     ]
    }
   ],
   "source": [
    "#Process the data to only have strings that are long enough\n",
    "MIN_LENGTH = 40\n",
    "lengths = [len(s) for s in f]\n",
    "strings = [f[i] for i in range(len(f)) if lengths[i] > MIN_LENGTH]\n",
    "print len(f)\n",
    "print len(strings)\n",
    "print strings[:10]"
   ]
  },
  {
   "cell_type": "code",
   "execution_count": 5,
   "metadata": {},
   "outputs": [],
   "source": [
    "#Find the vocabulary by reducing the dataset to a sequence of characters\n",
    "#and counting the characters\n",
    "a = [c for s in strings for c in s]\n",
    "\n",
    "vocab = {}\n",
    "for c in a:\n",
    "    if not vocab.has_key(c):\n",
    "        vocab[c] = 1\n",
    "    else:\n",
    "        vocab[c] += 1"
   ]
  },
  {
   "cell_type": "code",
   "execution_count": 6,
   "metadata": {},
   "outputs": [
    {
     "name": "stdout",
     "output_type": "stream",
     "text": [
      "{'!': 4752, ' ': 644173, '\"': 2, \"'\": 21470, '&': 5, '-': 3466, ',': 48797, '.': 7134, '2': 1, '4': 1, '7': 1, '9': 1, ';': 9295, ':': 5338, '?': 2481, '[': 19, ']': 18, 'a': 175619, 'c': 49401, 'b': 36681, 'e': 280647, 'd': 93786, 'g': 43103, 'f': 51365, 'i': 151684, 'h': 164537, 'k': 22886, 'j': 2551, 'm': 68261, 'l': 104017, 'o': 196181, 'n': 145423, 'q': 2018, 'p': 33571, 's': 155556, 'r': 144117, 'u': 80587, 't': 214208, 'w': 61228, 'v': 23963, 'y': 59411, 'x': 1618, 'z': 684}\n",
      "43\n",
      "['!', ' ', '\"', \"'\", '&', '-', ',', '.', '2', '4', '7', '9', ';', ':', '?', '[', ']', 'a', 'c', 'b', 'e', 'd', 'g', 'f', 'i', 'h', 'k', 'j', 'm', 'l', 'o', 'n', 'q', 'p', 's', 'r', 'u', 't', 'w', 'v', 'y', 'x', 'z']\n",
      "[4752, 644173, 2, 21470, 5, 3466, 48797, 7134, 1, 1, 1, 1, 9295, 5338, 2481, 19, 18, 175619, 49401, 36681, 280647, 93786, 43103, 51365, 151684, 164537, 22886, 2551, 68261, 104017, 196181, 145423, 2018, 33571, 155556, 144117, 80587, 214208, 61228, 23963, 59411, 1618, 684]\n"
     ]
    }
   ],
   "source": [
    "#Print the vocab to see what we get\n",
    "print vocab\n",
    "print len(vocab)\n",
    "letters = vocab.keys()\n",
    "frequencies = vocab.values()\n",
    "print letters\n",
    "print frequencies\n",
    "sorted_freqs = sorted(zip(letters,frequencies), key=lambda x: -x[1])"
   ]
  },
  {
   "cell_type": "code",
   "execution_count": 7,
   "metadata": {},
   "outputs": [
    {
     "name": "stdout",
     "output_type": "stream",
     "text": [
      "[' ', 'e', 't', 'o', 'a', 'h', 's', 'i', 'n', 'r', 'l', 'd', 'u', 'm', 'w', 'y', 'f', 'c', ',', 'g', 'b', 'p', 'v', 'k', \"'\", ';', '.', ':', '!', '-', 'j', '?', 'q', 'x', 'z', '[', ']', '&', '\"', '2', '4', '7', '9']\n",
      "{'!': 28, ' ': 0, '\"': 38, \"'\": 24, '&': 37, '-': 29, ',': 18, '.': 26, '2': 39, '4': 40, '7': 41, '9': 42, ';': 25, ':': 27, '?': 31, '[': 35, ']': 36, 'a': 4, 'c': 17, 'b': 20, 'e': 1, 'd': 11, 'g': 19, 'f': 16, 'i': 7, 'h': 5, 'k': 23, 'j': 30, 'm': 13, 'l': 10, 'o': 3, 'n': 8, 'q': 32, 'p': 21, 's': 6, 'r': 9, 'u': 12, 't': 2, 'w': 14, 'v': 22, 'y': 15, 'x': 33, 'z': 34}\n",
      "{0: ' ', 1: 'e', 2: 't', 3: 'o', 4: 'a', 5: 'h', 6: 's', 7: 'i', 8: 'n', 9: 'r', 10: 'l', 11: 'd', 12: 'u', 13: 'm', 14: 'w', 15: 'y', 16: 'f', 17: 'c', 18: ',', 19: 'g', 20: 'b', 21: 'p', 22: 'v', 23: 'k', 24: \"'\", 25: ';', 26: '.', 27: ':', 28: '!', 29: '-', 30: 'j', 31: '?', 32: 'q', 33: 'x', 34: 'z', 35: '[', 36: ']', 37: '&', 38: '\"', 39: '2', 40: '4', 41: '7', 42: '9'}\n"
     ]
    }
   ],
   "source": [
    "#After sorting the vocab we can get our final vocab list\n",
    "#We also create two maps to convert between letters and \n",
    "#numerical encodings\n",
    "final_vocab = [s[0] for s in sorted_freqs]\n",
    "print final_vocab\n",
    "\n",
    "NUM_CHARS = len(final_vocab)+1\n",
    "vocab_map = {}\n",
    "num_map = {}\n",
    "for i in range(len(final_vocab)):\n",
    "    c = final_vocab[i]\n",
    "    vocab_map[c] = i\n",
    "    num_map[i] = c\n",
    "print vocab_map\n",
    "print num_map"
   ]
  },
  {
   "cell_type": "code",
   "execution_count": 8,
   "metadata": {
    "collapsed": true
   },
   "outputs": [],
   "source": [
    "#We can now build our training dataset by converting each string\n",
    "#to a sequence of numbers\n",
    "data_set = []\n",
    "for i in range(len(strings)):\n",
    "    s = strings[i]\n",
    "    string_length = len(s)\n",
    "    x = np.zeros((string_length))\n",
    "    \n",
    "    for j in range(len(s)):\n",
    "        c = s[j]\n",
    "        if vocab_map.has_key(c):\n",
    "            char_pos = vocab_map[c]\n",
    "        else:\n",
    "            char_pos = NUM_CHARS-1\n",
    "        x[j] = char_pos\n",
    "        \n",
    "    data_set.append(x)\n",
    "    "
   ]
  },
  {
   "cell_type": "code",
   "execution_count": 9,
   "metadata": {
    "collapsed": true
   },
   "outputs": [],
   "source": [
    "#Define some convenience functions to build our network\n",
    "def fully_connected(x, output_units=100, activation=tf.identity, std='variance',\n",
    "                   scope='fc', reuse=False):\n",
    "  \"\"\"\n",
    "  args:\n",
    "      x, (tf tensor), tensor with shape (batch,width,height,channels)\n",
    "      std, (float/string), std of weight initialization, 'xavier' for xavier\n",
    "          initialization\n",
    "      output_units,(int), number of output units for the layer\n",
    "      activation, (tf function), tensorflow activation function, e.g. tf.nn.relu\n",
    "      scope, (string), scope under which to store variables\n",
    "      reuse, (boolean), whether we want to reuse variables that have already\n",
    "          been created (i.e. reuse an earilier layer)\n",
    "  returns:\n",
    "      a, (tf tensor), the output of the fully_connected layer, has size\n",
    "          (batch, output_units)\n",
    "  \"\"\"\n",
    "  with tf.variable_scope(scope, reuse=reuse):\n",
    "    s = x.get_shape().as_list()\n",
    "\n",
    "    shape = [s[1], output_units]\n",
    "\n",
    "    if std == 'variance':\n",
    "      std = np.sqrt(2.0 / shape[0])\n",
    "\n",
    "    W = tf.get_variable('W', shape=shape, initializer=tf.random_normal_initializer(0.0, std))\n",
    "    b = tf.get_variable(\"b\", shape=shape[1], initializer=tf.random_normal_initializer(0.0, std))\n",
    "\n",
    "    h = tf.matmul(x, W) + b\n",
    "    a = activation(h)\n",
    "    return a\n",
    "    \n",
    "def get_batch(f,n=32, min_length=10):\n",
    "    N = len(f)\n",
    "    inds = np.random.choice(range(N),size=n, replace=False)\n",
    "    mats = [f[i] for i in inds]\n",
    "    vocab_length = mats[0].shape[0]\n",
    "    \n",
    "    X = np.zeros((n,min_length))\n",
    "    Y = np.zeros((n,min_length))\n",
    "    \n",
    "    for i in range(n):\n",
    "        mat = mats[i]\n",
    "        length = mat.shape[0]\n",
    "        \n",
    "        start = np.random.randint(length-min_length)\n",
    "        label_start = start+1\n",
    "        end = start+min_length\n",
    "        label_end = end+1\n",
    "        \n",
    "        X[i] = mat[start:end]\n",
    "        Y[i] = mat[label_start:label_end]\n",
    "        \n",
    "    return X,Y\n",
    "\n",
    "def rnn(x,h,hidden_size=100,activation=tf.nn.tanh,scope='RNN',reuse=False):\n",
    "    s = x.get_shape().as_list()\n",
    "    vocab_size = s[1]\n",
    "    \n",
    "    with tf.variable_scope(scope, reuse=reuse):\n",
    "            Wxh = tf.get_variable('Wxh', [vocab_size, hidden_size])\n",
    "            Whh = tf.get_variable('Whh', [hidden_size, hidden_size])\n",
    "            Why = tf.get_variable('Why', [hidden_size, hidden_size])\n",
    "            bh = tf.get_variable('bh', [hidden_size])\n",
    "            by = tf.get_variable('by', [hidden_size])\n",
    "    \n",
    "    next_state = activation(tf.matmul(x, Wxh) + tf.matmul(h, Whh) + bh)\n",
    "    yhat = tf.matmul(next_state,Why)+by\n",
    "    return yhat,next_state\n",
    "\n",
    "def rnn_multi(rnn_input, init_state, hidden_size=100, activation=tf.nn.tanh, scope='RNN'):\n",
    "    outputs = []\n",
    "    state = init_state\n",
    "    reuse = False\n",
    "    for i in range(len(rnn_input)):\n",
    "            x = rnn_input[i]\n",
    "\n",
    "            if i > 0: reuse=True\n",
    "            output,state = rnn(x,state,hidden_size,activation,scope,reuse)\n",
    "            outputs.append(output)\n",
    "    return outputs,state\n"
   ]
  },
  {
   "cell_type": "code",
   "execution_count": 10,
   "metadata": {},
   "outputs": [
    {
     "name": "stdout",
     "output_type": "stream",
     "text": [
      "(32, 40)\n",
      "(32, 40)\n"
     ]
    }
   ],
   "source": [
    "#Neural Network parameters\n",
    "train_steps = 10000\n",
    "batch_size = 32\n",
    "learning_rate = 1e-3\n",
    "lstm_size = 256\n",
    "print_step = 1000\n",
    "\n",
    "init = 1e-2\n",
    "#test get_batch\n",
    "xb,yb = get_batch(data_set,batch_size,MIN_LENGTH)\n",
    "\n",
    "print xb.shape\n",
    "print yb.shape"
   ]
  },
  {
   "cell_type": "code",
   "execution_count": 11,
   "metadata": {
    "collapsed": true
   },
   "outputs": [],
   "source": [
    "#Construct tensorflow graph\n",
    "x = tf.placeholder(shape=[None,MIN_LENGTH],dtype=tf.int32)\n",
    "y = tf.placeholder(shape=[None,MIN_LENGTH],dtype=tf.int32)\n",
    "\n",
    "x_oh = tf.one_hot(x, depth=NUM_CHARS)\n",
    "y_oh = tf.one_hot(y, depth=NUM_CHARS)\n",
    "\n",
    "#placeholders for the RNN hidden state\n",
    "init_hidden = tf.placeholder(shape=[None,lstm_size],dtype=tf.float32)\n",
    "final_hidden = tf.placeholder(shape=[None,NUM_CHARS],dtype=tf.float32)\n",
    "\n",
    "x_list = tf.unstack(x_oh,axis=1)\n",
    "\n",
    "rnn_outputs,final_state_1 = rnn_multi(x_list,init_hidden,lstm_size,scope='RNN1')\n",
    "\n",
    "final_outputs, final_state_2 = rnn_multi(rnn_outputs, final_hidden, NUM_CHARS,scope='RNN_OUT')\n",
    "\n",
    "out_mat = tf.stack(final_outputs,axis=1)\n",
    "\n",
    "loss = tf.reduce_mean(tf.nn.softmax_cross_entropy_with_logits(logits=out_mat,labels=y_oh))"
   ]
  },
  {
   "cell_type": "code",
   "execution_count": 12,
   "metadata": {},
   "outputs": [
    {
     "name": "stdout",
     "output_type": "stream",
     "text": [
      "Tensor(\"Softmax:0\", shape=(?, 44), dtype=float32)\n"
     ]
    }
   ],
   "source": [
    "#construct some additional ops for test time predictions\n",
    "x_test = tf.placeholder(shape=[1],dtype=tf.int32)\n",
    "x_test_oh = tf.one_hot(x_test,depth=NUM_CHARS)\n",
    "\n",
    "test_out_1, test_state_1 = rnn(x_test_oh,init_hidden,lstm_size,scope='RNN1',reuse=True)\n",
    "test_out, test_state = rnn(test_out_1,final_hidden,NUM_CHARS,scope='RNN_OUT',reuse=True)\n",
    "test_out = tf.nn.softmax(test_out)\n",
    "print test_out"
   ]
  },
  {
   "cell_type": "code",
   "execution_count": 13,
   "metadata": {
    "collapsed": true
   },
   "outputs": [],
   "source": [
    "#Construct the optimizer and training operations\n",
    "opt = tf.train.AdamOptimizer(learning_rate)\n",
    "train = opt.minimize(loss)\n",
    "init = tf.global_variables_initializer()"
   ]
  },
  {
   "cell_type": "code",
   "execution_count": 14,
   "metadata": {
    "collapsed": true
   },
   "outputs": [],
   "source": [
    "sess = tf.Session()\n",
    "sess.run(init)"
   ]
  },
  {
   "cell_type": "code",
   "execution_count": 15,
   "metadata": {},
   "outputs": [
    {
     "name": "stdout",
     "output_type": "stream",
     "text": [
      "iter: 0 Train: 3.98494291306, Val: 3.69212603569\n",
      "iter: 1000 Train: 1.75779020786, Val: 1.76294744015\n",
      "iter: 2000 Train: 1.80918347836, Val: 1.74046134949\n",
      "iter: 3000 Train: 1.71530020237, Val: 1.81841564178\n",
      "iter: 4000 Train: 1.71690821648, Val: 1.73258781433\n",
      "iter: 5000 Train: 1.67543923855, Val: 1.64802670479\n",
      "iter: 6000 Train: 1.65392875671, Val: 1.62165045738\n",
      "iter: 7000 Train: 1.60775983334, Val: 1.64760279655\n",
      "iter: 8000 Train: 1.53083860874, Val: 1.58130037785\n",
      "iter: 9000 Train: 1.60801887512, Val: 1.58532357216\n"
     ]
    }
   ],
   "source": [
    "#Start the train loop\n",
    "train_hist = []\n",
    "val_hist = []\n",
    "\n",
    "state_1 = np.zeros((batch_size,lstm_size))\n",
    "state_2 = np.zeros((batch_size,NUM_CHARS))\n",
    "\n",
    "for i in range(train_steps):\n",
    "    xb,yb = get_batch(data_set,batch_size,MIN_LENGTH)\n",
    "\n",
    "    l,_=sess.run([loss,train],{x:xb,y:yb,\n",
    "            init_hidden:state_1,final_hidden:state_2})\n",
    "    \n",
    "    if i%print_step == 0:\n",
    "        \n",
    "        xb,yb = get_batch(data_set,batch_size,MIN_LENGTH)\n",
    "        lval=sess.run(loss,{x:xb,y:yb,init_hidden:state_1, final_hidden:state_2})\n",
    "        print \"iter: {} Train: {}, Val: {}\".format(i,l,lval)\n",
    "        train_hist.append(l)\n",
    "        val_hist.append(lval)"
   ]
  },
  {
   "cell_type": "code",
   "execution_count": 16,
   "metadata": {},
   "outputs": [
    {
     "data": {
      "image/png": "[encoded data removed]",
      "text/plain": [
       "<matplotlib.figure.Figure at 0x7f99a853e350>"
      ]
     },
     "metadata": {},
     "output_type": "display_data"
    }
   ],
   "source": [
    "plt.figure()\n",
    "plt.plot(train_hist, linewidth=2,color='r',label='train')\n",
    "plt.plot(val_hist, linewidth=2,color='g',label='val')\n",
    "plt.legend()\n",
    "plt.show()"
   ]
  },
  {
   "cell_type": "code",
   "execution_count": 42,
   "metadata": {},
   "outputs": [
    {
     "name": "stdout",
     "output_type": "stream",
     "text": [
      "when i am he strong shall the strong shall the strong shall the strong shall the stro\n"
     ]
    }
   ],
   "source": [
    "#Test the predictions\n",
    "max_predictions = 75\n",
    "input_string = 'when i am '\n",
    "\n",
    "input_length = len(input_string)\n",
    "x_t = np.zeros((1,input_length))\n",
    "\n",
    "for i in range(input_length):\n",
    "    char = input_string[i]\n",
    "    if vocab_map.has_key(char):\n",
    "        char_index = vocab_map[char]\n",
    "        x_t[0,i] = char_index\n",
    "    else:\n",
    "        x_t[0,i] = NUM_CHARS-1\n",
    "\n",
    "state = np.zeros((1,lstm_size))\n",
    "final_state = np.zeros((1,NUM_CHARS))\n",
    "\n",
    "for i in range(input_length):\n",
    "    x_input = x_t[0,i]\n",
    "    x_input = x_input.reshape((1))\n",
    "\n",
    "    prediction,state,final_state = sess.run([test_out,test_state_1,test_state],\n",
    "                                {x_test:x_input,init_hidden:state,final_hidden:final_state})\n",
    "test_predictions=[]    \n",
    "for i in range(max_predictions):\n",
    "    x_input = np.zeros((1))\n",
    "    ind = np.argmax(prediction,axis=1)\n",
    "    x_input[0] = ind\n",
    "    prediction,state,final_state = sess.run([test_out,test_state_1,test_state],\n",
    "                                {x_test:x_input,init_hidden:state,final_hidden:final_state})\n",
    "    test_predictions.append(np.argmax(prediction,axis=1))\n",
    "    \n",
    "output_chars = [num_map[t[0]] for t in test_predictions]\n",
    "output_string = input_string + ''.join(output_chars)\n",
    "print output_string"
   ]
  },
  {
   "cell_type": "code",
   "execution_count": null,
   "metadata": {
    "collapsed": true
   },
   "outputs": [],
   "source": []
  }
 ],
 "metadata": {
  "kernelspec": {
   "display_name": "Python [conda root]",
   "language": "python",
   "name": "conda-root-py"
  },
  "language_info": {
   "codemirror_mode": {
    "name": "ipython",
    "version": 2
   },
   "file_extension": ".py",
   "mimetype": "text/x-python",
   "name": "python",
   "nbconvert_exporter": "python",
   "pygments_lexer": "ipython2",
   "version": "2.7.13"
  }
 },
 "nbformat": 4,
 "nbformat_minor": 2
}
